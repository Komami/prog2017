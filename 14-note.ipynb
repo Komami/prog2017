{
 "cells": [
  {
   "cell_type": "code",
   "execution_count": 1,
   "metadata": {
    "collapsed": false
   },
   "outputs": [],
   "source": [
    "import turtle\n",
    "t=turtle.Turtle()\n",
    "\n",
    "def rect(x,y,a):\n",
    "  t.up()\n",
    "  t.home()\n",
    "  t.forward(x)\n",
    "  t.left(90)\n",
    "  t.forward(y)\n",
    "  t.down()\n",
    "  for i in range(4):\n",
    "    t.forward(a)\n",
    "    t.left(-90)\n"
   ]
  },
  {
   "cell_type": "code",
   "execution_count": 2,
   "metadata": {
    "collapsed": false
   },
   "outputs": [],
   "source": [
    "import turtle\n",
    "t=turtle.Turtle()\n",
    "\n",
    "def rect(x, y, a):\n",
    "  t.up()\n",
    "  t.home()\n",
    "  t.forward(x)\n",
    "  t.left(90)\n",
    "  t.forward(y)\n",
    "  t.down()\n",
    "  for i in range(4):\n",
    "    t.forward(a)\n",
    "    t.left(-90)\n",
    "\n",
    "t.clear()\n",
    "rect(10, 10, 100)\n",
    "rect(10, -110, 100)\n",
    "rect(-110, 10, 100)\n",
    "rect(-110, -110, 100)"
   ]
  },
  {
   "cell_type": "markdown",
   "metadata": {},
   "source": [
    "関数：複数の処理をひとまとめにしたもの。\n",
    "\n",
    "オブジェクト：複数の関数をひとまとめに。"
   ]
  },
  {
   "cell_type": "code",
   "execution_count": 1,
   "metadata": {
    "collapsed": false
   },
   "outputs": [
    {
     "data": {
      "text/plain": [
       "4924"
      ]
     },
     "execution_count": 1,
     "metadata": {},
     "output_type": "execute_result"
    }
   ],
   "source": [
    "import random\n",
    "\n",
    "#サイコロの設計図(クラス)\n",
    "class Dice:\n",
    "  face_num=6\n",
    "  def shoot(self):\n",
    "    return random.randint(1,self.face_num)\n",
    "\n",
    "\n",
    "aDice=Dice()#クラスをもとにオブジェクトを作る\n",
    "aDice.shoot()#オブジェクトを使う\n",
    "\n",
    "aDice.face_num=10000\n",
    "aDice.shoot()\n"
   ]
  },
  {
   "cell_type": "markdown",
   "metadata": {},
   "source": [
    "・クラス：オブジェクトの設計図\n",
    "\n",
    "　→オブジェクト：データと操作をまとめたもの\n",
    "  \n",
    "・クラス派生：クラスをもとに、別のクラスを作ること。新しいクラスは、もとのクラスの性質を「継承」する。"
   ]
  },
  {
   "cell_type": "markdown",
   "metadata": {},
   "source": [
    "181=(CUI)"
   ]
  },
  {
   "cell_type": "markdown",
   "metadata": {},
   "source": [
    "・標準出力：画面に出力\n",
    "　\n",
    " →「>」を使ってファイルにリダイレクト\n",
    "　\n",
    " 「>>」で追記"
   ]
  },
  {
   "cell_type": "code",
   "execution_count": null,
   "metadata": {
    "collapsed": true
   },
   "outputs": [],
   "source": []
  }
 ],
 "metadata": {
  "kernelspec": {
   "display_name": "Python 3",
   "language": "python",
   "name": "python3"
  },
  "language_info": {
   "codemirror_mode": {
    "name": "ipython",
    "version": 3
   },
   "file_extension": ".py",
   "mimetype": "text/x-python",
   "name": "python",
   "nbconvert_exporter": "python",
   "pygments_lexer": "ipython3",
   "version": "3.6.0"
  }
 },
 "nbformat": 4,
 "nbformat_minor": 2
}
